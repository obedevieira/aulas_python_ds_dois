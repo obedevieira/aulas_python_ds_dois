{
  "nbformat": 4,
  "nbformat_minor": 0,
  "metadata": {
    "colab": {
      "provenance": [],
      "toc_visible": true
    },
    "kernelspec": {
      "name": "python3",
      "display_name": "Python 3"
    },
    "language_info": {
      "name": "python"
    }
  },
  "cells": [
    {
      "cell_type": "markdown",
      "source": [
        "# Desafio\n",
        "\n",
        "### Exercício: Explorando o Conjunto de Dados de Vendas de Videogames\n",
        "\n",
        "**Objetivo:** Utilizar a biblioteca Pandas para extrair e analisar informações dos conjuntos de dados de vendas de jogos e video games.\n",
        "\n",
        "\n",
        "### Tarefas dos Alunos\n",
        "\n",
        "1. **Leitura e Inspeção dos Dados:**\n",
        "   - Carregue os arquivos CSV em DataFrames separados.\n",
        "   - Combine os DataFrames em um único DataFrame.\n",
        "   - Renomeie as colunas para português\n",
        "   - Exiba as primeiras 5 linhas do DataFrame combinado.\n",
        "   - Exiba informações gerais e estatísticas descritivas do DataFrame.\n",
        "\n",
        "2. **Análise Exploratória:**\n",
        "   - Conte a quantidade de jogos por plataforma.\n",
        "   - Calcule a média das vendas globais por plataforma.\n",
        "   - Conte a quantidade de jogos por gênero.\n",
        "\n",
        "3. **Filtragem de Dados:**\n",
        "   - Filtre os jogos com vendas globais acima da média e conte quantos são.\n",
        "   - Filtre os jogos lançados após o ano 2010 e calcule a média das vendas globais desses jogos.\n",
        "\n",
        "4. **Operações Avançadas:**\n",
        "   - Adicione uma coluna ao DataFrame que calcule a soma das vendas na América do Norte e Europa.\n",
        "   - Agrupe os dados por ano de lançamento e calcule a média das vendas globais.\n",
        "\n"
      ],
      "metadata": {
        "id": "ODgArAxM9s9V"
      }
    }
  ]
}